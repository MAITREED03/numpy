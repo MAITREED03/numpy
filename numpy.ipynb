{
 "cells": [
  {
   "cell_type": "markdown",
   "id": "ebd4081c-7d41-4801-b8a3-1352c34046b9",
   "metadata": {},
   "source": [
    "Consider the below code to answer further questions:\n",
    "import numpy as np\n",
    "list_ = [ ‘1’ , ’2’ , ‘3’ , ‘4’ , ‘5’ ]\n",
    "array_list = np.array(object = list_)\n",
    "Q1. Is there any difference in the data type of variables list_ and array_list? If there is then write a code\n",
    "to print the data types of both the variables.\n",
    "\n",
    "\n",
    "\n",
    "\n",
    "\n"
   ]
  },
  {
   "cell_type": "code",
   "execution_count": null,
   "id": "ca23803a-addf-46d6-940c-2234cdc83eb9",
   "metadata": {},
   "outputs": [],
   "source": [
    "import numpy as np\n",
    "list_ = [ '1' , '2' , '3' , '4', '5' ]\n",
    "array_list = np.array(object = list_)\n",
    "array_list"
   ]
  },
  {
   "cell_type": "code",
   "execution_count": null,
   "id": "7bced736-d365-4543-966d-4e657fd56350",
   "metadata": {},
   "outputs": [],
   "source": [
    "#Yes, there is a difference in the data type of the list_ and array_list. The elements in the list_ are strings, whereas the elements in the array_list are converted to a common data type by NumPy during the creation of the array."
   ]
  },
  {
   "cell_type": "markdown",
   "id": "077e6844-08d2-424f-820b-227b3599728c",
   "metadata": {},
   "source": [
    "Q2. Write a code to print the data type of each and every element of both the variables list_ and\n",
    "arra_list."
   ]
  },
  {
   "cell_type": "code",
   "execution_count": null,
   "id": "acf800ff-a79c-40c0-956e-891160805297",
   "metadata": {},
   "outputs": [],
   "source": [
    "import numpy as np\n",
    "\n",
    "list_ = ['1', '2', '3', '4', '5']\n",
    "array_list = np.array(list_)\n",
    "\n",
    "# Print data types for each element in list_\n",
    "print(\"Data types in list_:\")\n",
    "for element in list_:\n",
    "    print(type(element))\n",
    "\n",
    "# Print data types for each element in array_list\n",
    "print(\"\\nData types in array_list:\")\n",
    "for element in array_list:\n",
    "    print(type(element))"
   ]
  },
  {
   "cell_type": "markdown",
   "id": "95b921c9-6995-4381-84d6-ad76e7d5e473",
   "metadata": {},
   "source": [
    "Q3. Considering the following changes in the variable, array_list:\n",
    "array_list = np.array(object = list_, dtype = int)\n",
    "Will there be any difference in the data type of the elements present in both the variables, list_ and\n",
    "arra_list? If so then print the data types of each and every element present in both the variables, list_\n",
    "and arra_list.\n",
    "Consider the below code to answer further questions:\n",
    "import numpy as np\n",
    "num_list = [ [ 1 , 2 , 3 ] , [ 4 , 5 , 6 ] ]\n",
    "num_array = np.array(object = num_list)"
   ]
  },
  {
   "cell_type": "code",
   "execution_count": null,
   "id": "a450e012-417b-4c1d-91d8-cee9ef2b5cd4",
   "metadata": {},
   "outputs": [],
   "source": [
    "array_list = np.array(object = list_, dtype = int)\n",
    "array_list\n",
    "\n",
    "list_ = [ '1' , '2' , '3' , '4' , '5' ]\n",
    "list_\n",
    "\n",
    "list_ = [ '1' , '2' , '3' , '4' , '5' ]\n",
    "list_\n",
    "for element in list_:\n",
    "    print(type(element))\n",
    "    \n",
    "    \n",
    "array_list = np.array(object = list_, dtype = int)\n",
    "array_list\n",
    "for element in array_list:\n",
    "    print(type(element))\n",
    "    \n",
    "#yes there are difference between data type of list_ and array_list.data type in list_ id str and data type in array_list is int."
   ]
  },
  {
   "cell_type": "markdown",
   "id": "c7b9792a-536f-4669-83dd-21b301139e89",
   "metadata": {},
   "source": [
    "Q4. Write a code to find the following characteristics of variable, num_array:\n",
    "(i) shape\n",
    "(ii) size"
   ]
  },
  {
   "cell_type": "code",
   "execution_count": null,
   "id": "31d4da68-7705-4e3b-9e59-de9f4df96564",
   "metadata": {},
   "outputs": [],
   "source": [
    "num_array = np.array(object = num_list)\n",
    "num_array "
   ]
  },
  {
   "cell_type": "code",
   "execution_count": null,
   "id": "36d7fd65-1af5-4e67-aaea-19b4bfb2eec3",
   "metadata": {},
   "outputs": [],
   "source": [
    "num_array .shape"
   ]
  },
  {
   "cell_type": "code",
   "execution_count": null,
   "id": "e11f408c-3de2-47ac-b803-29aebb6d3646",
   "metadata": {},
   "outputs": [],
   "source": [
    "num_array .size"
   ]
  },
  {
   "cell_type": "markdown",
   "id": "4c2890a8-a61e-4fcf-ba0c-d6422c1a0e0d",
   "metadata": {},
   "source": [
    "Q5. Write a code to create numpy array of 3*3 matrix containing zeros only, using a numpy array\n",
    "creation function.\n",
    "[Hint: The size of the array will be 9 and the shape will be (3,3).]"
   ]
  },
  {
   "cell_type": "code",
   "execution_count": null,
   "id": "49d55ce0-5313-439c-9526-4db7200cae71",
   "metadata": {},
   "outputs": [],
   "source": [
    "import numpy as np\n",
    "\n",
    "matrix=np.array([[0,0,0],[0,0,0],[0,0,0]])\n",
    "matrix"
   ]
  },
  {
   "cell_type": "code",
   "execution_count": null,
   "id": "7ac9dfc6-3adf-4741-a94a-fb062740cd43",
   "metadata": {},
   "outputs": [],
   "source": []
  },
  {
   "cell_type": "code",
   "execution_count": null,
   "id": "b1ecfbf8-f3f7-4ccf-80ad-0cbac5c5976c",
   "metadata": {},
   "outputs": [],
   "source": []
  }
 ],
 "metadata": {
  "kernelspec": {
   "display_name": "Python 3 (ipykernel)",
   "language": "python",
   "name": "python3"
  },
  "language_info": {
   "codemirror_mode": {
    "name": "ipython",
    "version": 3
   },
   "file_extension": ".py",
   "mimetype": "text/x-python",
   "name": "python",
   "nbconvert_exporter": "python",
   "pygments_lexer": "ipython3",
   "version": "3.10.8"
  }
 },
 "nbformat": 4,
 "nbformat_minor": 5
}
